{
 "cells": [
  {
   "cell_type": "code",
   "execution_count": null,
   "id": "77fa5196",
   "metadata": {},
   "outputs": [
    {
     "name": "stdout",
     "output_type": "stream",
     "text": [
      "Note: you may need to restart the kernel to use updated packages.\n",
      "📥 Cargando dataset de features…\n",
      "✅ Dataset: 28080 filas, 592 columnas.\n",
      "🔄 Definiendo lista de features…\n",
      "✅ 577 features seleccionadas.\n",
      "🚀 Entrenando LightGBM…\n",
      "Training until validation scores don't improve for 50 rounds\n",
      "[100]\ttraining's l1: 0.183176\tvalid_1's l1: 0.283786\n",
      "Did not meet early stopping. Best iteration is:\n",
      "[91]\ttraining's l1: 0.18788\tvalid_1's l1: 0.280448\n",
      "✅ Entrenamiento completado.\n",
      "🧪 Test MAE: 8.956, RMSE: 27.907\n"
     ]
    },
    {
     "name": "stderr",
     "output_type": "stream",
     "text": [
      "C:\\Users\\Elisabeth\\AppData\\Local\\Temp\\ipykernel_13448\\3752573117.py:130: SettingWithCopyWarning: \n",
      "A value is trying to be set on a copy of a slice from a DataFrame.\n",
      "Try using .loc[row_indexer,col_indexer] = value instead\n",
      "\n",
      "See the caveats in the documentation: https://pandas.pydata.org/pandas-docs/stable/user_guide/indexing.html#returning-a-view-versus-a-copy\n",
      "  test['tn_pred'] = pred\n"
     ]
    }
   ],
   "source": [
    "# === BLOQUE 3 – Entrenamiento LightGBM  ===\n",
    "\n",
    "# 1) Instalar LightGBM\n",
    "\n",
    "%pip install lightgbm --quiet\n",
    "\n",
    "\n",
    "# 2) Importar librerías\n",
    "import pandas as pd\n",
    "import numpy as np\n",
    "import lightgbm as lgb\n",
    "from pathlib import Path\n",
    "from sklearn.metrics import mean_absolute_error, mean_squared_error\n",
    "import os\n",
    "\n",
    "\n",
    "# 3) Rutas reutilizando ROOT e INTERMEDIOS\n",
    "ROOT= Path.cwd().parent\n",
    "\n",
    "INTERMEDIOS = ROOT / \"intermedios\"\n",
    "SALIDAS     = ROOT / \"outputs\"     \n",
    "FEATURES_DIR = ROOT / \"features\"\n",
    "PRED_PATH = SALIDAS / \"pred_modelo_lgbm_Best.csv\"\n",
    "\n",
    "BASE_OUTPUTS   = r'C:\\Users\\Elisabeth\\Desktop\\MAESTRIA_AUSTRAL\\Labo_III\\labo3-2025v\\entrega_final\\output'\n",
    "\n",
    "# 4) Carga de features desde pkl\n",
    "print(\"📥 Cargando dataset de features…\")\n",
    "df = pd.read_pickle(FEATURES_DIR/\"dataset_features_product_id.pkl\")\n",
    "print(f\"✅ Dataset: {df.shape[0]} filas, {df.shape[1]} columnas.\")\n",
    "\n",
    "\n",
    "\n",
    "\n",
    "#print(df.dtypes.value_counts())\n",
    "\n",
    "#print(df.dtypes['n_customers'])\n",
    "\n",
    "\n",
    "# 5) Asegurar columna target\n",
    "if 'target' not in df.columns:\n",
    "    df = df.sort_values(['product_id','periodo']).reset_index(drop=True)\n",
    "    df['target'] = df.groupby('product_id')['tn'].shift(-2)\n",
    "\n",
    "# 6) Filtrar y log-transform\n",
    "df = df[df['target'].notna()].reset_index(drop=True)\n",
    "df['target_log'] = np.log1p(df['target'].clip(lower=0))\n",
    "\n",
    "# 7) Reducir cardinalidad en categóricas\n",
    "def reducir_card(serie, max_unique=30):\n",
    "    top = serie.value_counts().nlargest(max_unique).index\n",
    "    return serie.where(serie.isin(top), other='Other')\n",
    "for col in ['cat1','cat2','cat3']:\n",
    "    if col in df.columns:\n",
    "        df[col] = df[col].astype('category')\n",
    "        if 'Other' not in df[col].cat.categories:\n",
    "            df[col] = df[col].cat.add_categories(['Other'])\n",
    "        df[col] = reducir_card(df[col]).astype('category')\n",
    "\n",
    "# 8) Definir lista de features dinámicamente\n",
    "print(\"🔄 Definiendo lista de features…\")\n",
    "exclude = [\n",
    "    #'cluster_dtw',\n",
    "    #'tn_rollmax2',\n",
    "    #'tn_roll2',\n",
    "    #'tn_mean_all',\n",
    "    'share_total',\n",
    "    'product_id',\n",
    "    'n_customers',\n",
    "    'cat2','cat3',\n",
    "    'period', 'periodo','prod_start',\n",
    "    'target','target_log','tn',\n",
    "    'brand','cust_request_qty','cust_request_tn',\n",
    "    'plan_precios_cuidados','sku_size'\n",
    "]\n",
    "\n",
    "features = [\n",
    "    c for c in df.columns\n",
    "    if c not in exclude and pd.api.types.is_numeric_dtype(df[c])\n",
    "]\n",
    "\n",
    "categ_feats = [c for c in ['cat1',\n",
    "                           'cluster_dtw'\n",
    "                           ] if c in features]\n",
    "\n",
    "print(f\"✅ {len(features)} features seleccionadas.\")\n",
    "\n",
    "# 9) Split temporal train/test\n",
    "max_ord = df['period_ordinal'].max()\n",
    "train   = df[df['period_ordinal'] <= max_ord - 2]\n",
    "test    = df[df['period_ordinal'] >  max_ord - 2]\n",
    "X_train = train[features];  y_train = train['target_log']\n",
    "X_test  = test[features];   y_test  = test['target_log']\n",
    "y_real  = test['target']\n",
    "\n",
    "# 10) Entrenamiento LightGBM\n",
    "\n",
    "dtrain = lgb.Dataset(X_train, label=y_train, categorical_feature=categ_feats)\n",
    "dvalid = lgb.Dataset(X_test,  label=y_test,  reference=dtrain, categorical_feature=categ_feats)\n",
    "params = {\n",
    "    'objective':'regression','metric':'mae','boosting_type':'gbdt',\n",
    "    'max_depth': 10, 'learning_rate': 0.05663964996081039, 'min_child_weight': 3, 'subsample': 0.8316655287432297,\n",
    "    'num_leaves': 39, 'feature_fraction': 0.8247124868682788, 'bagging_fraction': 0.9595500390363261, 'bagging_freq': 8,\n",
    "    'max_bin': 652, 'colsample_bytree': 0.8474007166109918, 'reg_alpha': 0.8217385123006359, 'reg_lambda': 0.9295570679904743, 'n_estimators': 112,'min_child_samples':20,\n",
    "    'random_state':42,'verbosity':-1\n",
    "}\n",
    "print(\"🚀 Entrenando LightGBM…\")\n",
    "model = lgb.train(\n",
    "    params,\n",
    "    dtrain,\n",
    "    num_boost_round=1000,\n",
    "    valid_sets=[dtrain, dvalid],\n",
    "    callbacks=[\n",
    "        lgb.early_stopping(stopping_rounds=50),\n",
    "        lgb.log_evaluation(period=100)\n",
    "    ]\n",
    ")\n",
    "print(\"✅ Entrenamiento completado.\")\n",
    "\n",
    "\n",
    "\n",
    "\n",
    "\n",
    "# 13) Evaluación en test\n",
    "pred_log = model.predict(X_test); pred = np.expm1(pred_log)\n",
    "test['tn_pred'] = pred\n",
    "mae_val = mean_absolute_error(y_real, pred)\n",
    "rmse_val = np.sqrt(mean_squared_error(y_real, pred))\n",
    "print(f\"🧪 Test MAE: {mae_val:.3f}, RMSE: {rmse_val:.3f}\")\n",
    "\n",
    "# 14) Predicciones último periodo\n",
    "df_pred = df[df['period_ordinal']==max_ord]\n",
    "X_pred  = df_pred[features]\n",
    "\n",
    "\n",
    "\n",
    "out = pd.DataFrame({'product_id': df_pred['product_id'], 'tn_pred': np.expm1(model.predict(X_pred))})\n",
    "\n"
   ]
  },
  {
   "cell_type": "code",
   "execution_count": 5,
   "id": "da95a6da",
   "metadata": {},
   "outputs": [
    {
     "data": {
      "text/plain": [
       "780"
      ]
     },
     "execution_count": 5,
     "metadata": {},
     "output_type": "execute_result"
    }
   ],
   "source": [
    "out.shape[0]"
   ]
  },
  {
   "cell_type": "code",
   "execution_count": null,
   "id": "d0a6d109",
   "metadata": {},
   "outputs": [
    {
     "name": "stdout",
     "output_type": "stream",
     "text": [
      "💾 Guardado completado en: c:\\Users\\Elisabeth\\Desktop\\MAESTRIA_AUSTRAL\\Labo_III\\labo3-2025v\\outputs\\pred_modelo_lgbm_Best.csv\n"
     ]
    }
   ],
   "source": [
    "#Guardado de Prediccion Final\n",
    "out.to_csv(PRED_PATH, index=False)\n",
    "print(f\"💾 Guardado completado en: {PRED_PATH}\")"
   ]
  },
  {
   "cell_type": "markdown",
   "id": "6ac862d1",
   "metadata": {},
   "source": [
    "Feature Importance"
   ]
  },
  {
   "cell_type": "code",
   "execution_count": 8,
   "id": "04a9408d",
   "metadata": {},
   "outputs": [
    {
     "name": "stdout",
     "output_type": "stream",
     "text": [
      "🔍 Top 20 features por importancia normalizada:\n",
      "           feature  importance_gain_norm\n",
      "       tn_rollmax2              0.392525\n",
      "          tn_roll2              0.342802\n",
      "       tn_mean_all              0.104061\n",
      "          tn_roll4              0.028303\n",
      "      tn_rollmax11              0.017562\n",
      "          tn_roll3              0.014357\n",
      "        tn_max_all              0.011777\n",
      "          tn_roll5              0.007274\n",
      "meses_ceros_consec              0.006690\n",
      "     tn_count_zero              0.005989\n",
      "       tn_rollmax8              0.005623\n",
      "         tn_roll11              0.005470\n",
      "        tn_pct_all              0.005283\n",
      "       tn_rollmax7              0.003364\n",
      "       tn_rollmax3              0.003004\n",
      "     tn_max_last_3              0.002862\n",
      "             month              0.002686\n",
      "    tn_max_last_10              0.002520\n",
      "      tn_rollmin11              0.001721\n",
      "         tn_roll10              0.001486\n"
     ]
    },
    {
     "data": {
      "image/png": "[encoded data removed]",
      "text/plain": [
       "<Figure size 800x600 with 1 Axes>"
      ]
     },
     "metadata": {},
     "output_type": "display_data"
    }
   ],
   "source": [
    "# 11) Exportar feature importance\n",
    "imp_gain  = model.feature_importance(importance_type='gain')\n",
    "imp_split = model.feature_importance(importance_type='split')\n",
    "names     = model.feature_name()\n",
    "norm_gain = imp_gain / imp_gain.sum()\n",
    "df_imp = pd.DataFrame({\n",
    "    'feature':names,'importance_gain':imp_gain,\n",
    "    'importance_gain_norm':norm_gain,'importance_split':imp_split\n",
    "}).sort_values('importance_gain', ascending=False)\n",
    "#df_imp.to_csv(IMP_PATH, index=False)\n",
    "\n",
    "# 11) Visualizar feature importance\n",
    "imp_gain  = model.feature_importance(importance_type='gain')\n",
    "names     = model.feature_name()\n",
    "norm_gain = imp_gain / imp_gain.sum()\n",
    "\n",
    "df_imp = pd.DataFrame({\n",
    "    'feature':              names,\n",
    "    'importance_gain_norm': norm_gain,\n",
    "}).sort_values('importance_gain_norm', ascending=False)\n",
    "\n",
    "# Mostrar top 20 en consola\n",
    "print(\"🔍 Top 20 features por importancia normalizada:\")\n",
    "print(df_imp.head(20).to_string(index=False))\n",
    "\n",
    "# (Opcional) Gráfico de barras horizontal\n",
    "import matplotlib.pyplot as plt\n",
    "plt.figure(figsize=(8,6))\n",
    "top20 = df_imp.head(20)[::-1]  # invertir para gráfico\n",
    "plt.barh(top20['feature'], top20['importance_gain_norm'])\n",
    "plt.xlabel('Importancia normalizada')\n",
    "plt.title('Top 20 Feature Importance')\n",
    "plt.tight_layout()\n",
    "plt.show()\n"
   ]
  },
  {
   "cell_type": "markdown",
   "id": "b4b7b0fa",
   "metadata": {},
   "source": [
    "Test Validacion 201912"
   ]
  },
  {
   "cell_type": "code",
   "execution_count": 12,
   "id": "b0c9fbb1",
   "metadata": {},
   "outputs": [
    {
     "name": "stdout",
     "output_type": "stream",
     "text": [
      "\n",
      "📉 Total Forecast Error (TFE): 0.2548\n"
     ]
    }
   ],
   "source": [
    "df_valid = test[test['periodo'] == 201910].copy()\n",
    "\n",
    "df_valid['abs_error'] = (df_valid['target'] - df_valid['tn_pred']).abs()\n",
    "df_valid['rel_error'] = (df_valid['abs_error'] / df_valid['target'])\n",
    "total_error = df_valid['abs_error'].sum()\n",
    "total_sales = df_valid['target'].sum()\n",
    "tfe = total_error / total_sales\n",
    "print(f\"\\n📉 Total Forecast Error (TFE): {tfe:.4f}\")"
   ]
  },
  {
   "cell_type": "code",
   "execution_count": null,
   "id": "d4815c83",
   "metadata": {},
   "outputs": [
    {
     "name": "stdout",
     "output_type": "stream",
     "text": [
      "\n",
      "🔍 Top productos con mayor error absoluto:\n",
      "       product_id       target      tn_pred   abs_error  rel_error\n",
      "33          20001  1504.688599  1072.377715  432.310884   0.287309\n",
      "407         20012   173.130035   334.821354  161.691319   0.933930\n",
      "271         20008   195.368546   347.529457  152.160912   0.778840\n",
      "475         20014   272.028107   390.193328  118.165221   0.434386\n",
      "781         20023   181.132767   283.990366  102.857599   0.567857\n",
      "...           ...          ...          ...         ...        ...\n",
      "22473       20967     1.554080     1.563430    0.009350   0.006017\n",
      "17033       20674     8.385390     8.377883    0.007507   0.000895\n",
      "24037       21077     0.215840     0.209910    0.005930   0.027473\n",
      "16081       20637     4.749640     4.752190    0.002550   0.000537\n",
      "24819       21140     0.556940     0.556214    0.000726   0.001303\n",
      "\n",
      "[780 rows x 5 columns]\n"
     ]
    }
   ],
   "source": [
    "# 14. Productos con mayor error\n",
    "top_errores = df_valid.sort_values('abs_error', ascending=False)\n",
    "\n",
    "print(\"\\n🔍 Top productos con mayor error absoluto:\")\n",
    "print(top_errores[['product_id', 'target', 'tn_pred', 'abs_error','rel_error']])\n"
   ]
  },
  {
   "cell_type": "code",
   "execution_count": 25,
   "id": "940588f8",
   "metadata": {},
   "outputs": [],
   "source": [
    "cols = ['product_id', 'target', 'tn_pred', 'abs_error', 'rel_error']\n",
    "top_errores = top_errores[cols]"
   ]
  },
  {
   "cell_type": "code",
   "execution_count": 26,
   "id": "4c634982",
   "metadata": {},
   "outputs": [
    {
     "name": "stdout",
     "output_type": "stream",
     "text": [
      "✅ Resultados exportados a: C:\\Users\\Elisabeth\\Desktop\\MAESTRIA_AUSTRAL\\Labo_III\\labo3-2025v\\entrega_final\\output\\error_modelo_lgbm.csv\n"
     ]
    }
   ],
   "source": [
    "\n",
    "\n",
    " #Definir ruta de salida (reusa BASE_OUTPUTS si ya la tienes)\n",
    " \n",
    "BASE_OUTPUTS   = r'C:\\Users\\Elisabeth\\Desktop\\MAESTRIA_AUSTRAL\\Labo_III\\labo3-2025v\\entrega_final\\output'\n",
    "ERROR_CSV_PATH = os.path.join(BASE_OUTPUTS, 'error_modelo_lgbm.csv')\n",
    "\n",
    "# Exportar a CSV\n",
    "top_errores.to_csv(ERROR_CSV_PATH, index=False)\n",
    "\n",
    "print(f\"✅ Resultados exportados a: {ERROR_CSV_PATH}\")\n",
    "\n",
    "\n"
   ]
  },
  {
   "cell_type": "code",
   "execution_count": 27,
   "id": "de416cd7",
   "metadata": {},
   "outputs": [
    {
     "data": {
      "text/html": [
       "<div>\n",
       "<style scoped>\n",
       "    .dataframe tbody tr th:only-of-type {\n",
       "        vertical-align: middle;\n",
       "    }\n",
       "\n",
       "    .dataframe tbody tr th {\n",
       "        vertical-align: top;\n",
       "    }\n",
       "\n",
       "    .dataframe thead th {\n",
       "        text-align: right;\n",
       "    }\n",
       "</style>\n",
       "<table border=\"1\" class=\"dataframe\">\n",
       "  <thead>\n",
       "    <tr style=\"text-align: right;\">\n",
       "      <th></th>\n",
       "      <th>product_id</th>\n",
       "      <th>target</th>\n",
       "      <th>tn_pred</th>\n",
       "      <th>abs_error</th>\n",
       "      <th>rel_error</th>\n",
       "    </tr>\n",
       "  </thead>\n",
       "  <tbody>\n",
       "    <tr>\n",
       "      <th>33</th>\n",
       "      <td>20001</td>\n",
       "      <td>1504.688599</td>\n",
       "      <td>1072.377715</td>\n",
       "      <td>432.310884</td>\n",
       "      <td>0.287309</td>\n",
       "    </tr>\n",
       "    <tr>\n",
       "      <th>407</th>\n",
       "      <td>20012</td>\n",
       "      <td>173.130035</td>\n",
       "      <td>334.821354</td>\n",
       "      <td>161.691319</td>\n",
       "      <td>0.933930</td>\n",
       "    </tr>\n",
       "    <tr>\n",
       "      <th>271</th>\n",
       "      <td>20008</td>\n",
       "      <td>195.368546</td>\n",
       "      <td>347.529457</td>\n",
       "      <td>152.160912</td>\n",
       "      <td>0.778840</td>\n",
       "    </tr>\n",
       "    <tr>\n",
       "      <th>475</th>\n",
       "      <td>20014</td>\n",
       "      <td>272.028107</td>\n",
       "      <td>390.193328</td>\n",
       "      <td>118.165221</td>\n",
       "      <td>0.434386</td>\n",
       "    </tr>\n",
       "    <tr>\n",
       "      <th>781</th>\n",
       "      <td>20023</td>\n",
       "      <td>181.132767</td>\n",
       "      <td>283.990366</td>\n",
       "      <td>102.857599</td>\n",
       "      <td>0.567857</td>\n",
       "    </tr>\n",
       "  </tbody>\n",
       "</table>\n",
       "</div>"
      ],
      "text/plain": [
       "     product_id       target      tn_pred   abs_error  rel_error\n",
       "33        20001  1504.688599  1072.377715  432.310884   0.287309\n",
       "407       20012   173.130035   334.821354  161.691319   0.933930\n",
       "271       20008   195.368546   347.529457  152.160912   0.778840\n",
       "475       20014   272.028107   390.193328  118.165221   0.434386\n",
       "781       20023   181.132767   283.990366  102.857599   0.567857"
      ]
     },
     "execution_count": 27,
     "metadata": {},
     "output_type": "execute_result"
    }
   ],
   "source": [
    "top_errores.head()"
   ]
  }
 ],
 "metadata": {
  "kernelspec": {
   "display_name": "base",
   "language": "python",
   "name": "python3"
  },
  "language_info": {
   "codemirror_mode": {
    "name": "ipython",
    "version": 3
   },
   "file_extension": ".py",
   "mimetype": "text/x-python",
   "name": "python",
   "nbconvert_exporter": "python",
   "pygments_lexer": "ipython3",
   "version": "3.11.7"
  }
 },
 "nbformat": 4,
 "nbformat_minor": 5
}
