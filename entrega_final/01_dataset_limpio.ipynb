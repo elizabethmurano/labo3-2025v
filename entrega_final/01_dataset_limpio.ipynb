{
 "cells": [
  {
   "cell_type": "code",
   "execution_count": 27,
   "id": "fa519222",
   "metadata": {},
   "outputs": [],
   "source": [
    "# BLOQUE 1 - Carga, limpieza, agregación y relleno a nivel product_id\n",
    "import pandas as pd\n",
    "import numpy as np\n",
    "import os   \n",
    "\n",
    "BASE_DATOS     =r'C:\\Users\\Elisabeth\\Desktop\\MAESTRIA_AUSTRAL\\Labo_III\\labo3-2025v\\datasets'\n",
    "INTERMEDIOS   = r'C:\\Users\\Elisabeth\\Desktop\\MAESTRIA_AUSTRAL\\Labo_III\\labo3-2025v\\entrega_final\\intermedios'\n",
    "SALIDAS       = r'C:\\Users\\Elisabeth\\Desktop\\MAESTRIA_AUSTRAL\\Labo_III\\labo3-2025v\\entrega_final\\output'\n",
    "\n",
    "\n",
    "# Ahora carga:\n",
    "productos_pred = pd.read_csv(os.path.join(BASE_DATOS, \"productos_pred.txt\"), sep=\"\\t\")\n",
    "df             = pd.read_csv(os.path.join(BASE_DATOS, \"sell-in.txt\"),sep=\"\\t\")\n",
    "productos      = pd.read_csv(os.path.join(BASE_DATOS, \"tb_productos.txt\"),   sep=\"\\t\")\n",
    "stock          = pd.read_csv(os.path.join(BASE_DATOS, \"tb_stocks.txt\"),      sep=\"\\t\")\n",
    "\n",
    "\n"
   ]
  },
  {
   "cell_type": "code",
   "execution_count": 28,
   "id": "a58fb948",
   "metadata": {},
   "outputs": [
    {
     "data": {
      "text/html": [
       "<div>\n",
       "<style scoped>\n",
       "    .dataframe tbody tr th:only-of-type {\n",
       "        vertical-align: middle;\n",
       "    }\n",
       "\n",
       "    .dataframe tbody tr th {\n",
       "        vertical-align: top;\n",
       "    }\n",
       "\n",
       "    .dataframe thead th {\n",
       "        text-align: right;\n",
       "    }\n",
       "</style>\n",
       "<table border=\"1\" class=\"dataframe\">\n",
       "  <thead>\n",
       "    <tr style=\"text-align: right;\">\n",
       "      <th></th>\n",
       "      <th>periodo</th>\n",
       "      <th>product_id</th>\n",
       "      <th>stock_final</th>\n",
       "    </tr>\n",
       "  </thead>\n",
       "  <tbody>\n",
       "    <tr>\n",
       "      <th>0</th>\n",
       "      <td>201810</td>\n",
       "      <td>20524</td>\n",
       "      <td>1.61267</td>\n",
       "    </tr>\n",
       "    <tr>\n",
       "      <th>1</th>\n",
       "      <td>201810</td>\n",
       "      <td>20311</td>\n",
       "      <td>2.93657</td>\n",
       "    </tr>\n",
       "    <tr>\n",
       "      <th>2</th>\n",
       "      <td>201810</td>\n",
       "      <td>20654</td>\n",
       "      <td>6.83269</td>\n",
       "    </tr>\n",
       "    <tr>\n",
       "      <th>3</th>\n",
       "      <td>201810</td>\n",
       "      <td>21005</td>\n",
       "      <td>1.01338</td>\n",
       "    </tr>\n",
       "    <tr>\n",
       "      <th>4</th>\n",
       "      <td>201810</td>\n",
       "      <td>20974</td>\n",
       "      <td>0.34595</td>\n",
       "    </tr>\n",
       "  </tbody>\n",
       "</table>\n",
       "</div>"
      ],
      "text/plain": [
       "   periodo  product_id  stock_final\n",
       "0   201810       20524      1.61267\n",
       "1   201810       20311      2.93657\n",
       "2   201810       20654      6.83269\n",
       "3   201810       21005      1.01338\n",
       "4   201810       20974      0.34595"
      ]
     },
     "execution_count": 28,
     "metadata": {},
     "output_type": "execute_result"
    }
   ],
   "source": [
    "stock.head()"
   ]
  },
  {
   "cell_type": "code",
   "execution_count": 29,
   "id": "89f04267",
   "metadata": {},
   "outputs": [
    {
     "name": "stdout",
     "output_type": "stream",
     "text": [
      "🔄 Agregando a nivel producto-periodo...\n"
     ]
    }
   ],
   "source": [
    "## 3) Tipado y limpieza\n",
    "productos_pred[\"product_id\"] = productos_pred[\"product_id\"].astype(\"category\")\n",
    "df[\"product_id\"]             = df[\"product_id\"].astype(\"category\")\n",
    "df[\"plan_precios_cuidados\"]  = df[\"plan_precios_cuidados\"].fillna(False).astype(\"bool\")\n",
    "df[\"periodo\"]                = df[\"periodo\"].astype(\"int32\")\n",
    "df[\"cust_request_qty\"]       = df[\"cust_request_qty\"].astype(\"float32\")\n",
    "df[\"cust_request_tn\"]        = df[\"cust_request_tn\"].astype(\"float32\")\n",
    "df[\"tn\"]                     = df[\"tn\"].astype(\"float32\")\n",
    "df[\"fecha\"]                  = pd.to_datetime(df[\"periodo\"].astype(str) + \"01\", format=\"%Y%m%d\")\n",
    "\n",
    "# 4) Agregación a nivel product_id–periodo\n",
    "print(\"🔄 Agregando a nivel producto-periodo...\")\n",
    "sell_in_agg = (\n",
    "    df\n",
    "    .groupby(['periodo','product_id'], observed=True, as_index=False)\n",
    "    .agg(\n",
    "        tn                    = ('tn',               'sum'),\n",
    "        cust_request_qty      = ('cust_request_qty', 'sum'),\n",
    "        cust_request_tn       = ('cust_request_tn',  'sum'),\n",
    "        plan_precios_cuidados = ('plan_precios_cuidados','max'),\n",
    "        n_customers           = ('customer_id',      'nunique')\n",
    "    )\n",
    ")\n"
   ]
  },
  {
   "cell_type": "code",
   "execution_count": 31,
   "id": "04fd5ed0",
   "metadata": {},
   "outputs": [
    {
     "name": "stdout",
     "output_type": "stream",
     "text": [
      "🔄 Rellenando ceros para periodos faltantes...\n"
     ]
    }
   ],
   "source": [
    "# 5) Rellenado de ceros para periodos sin ventas\n",
    "print(\"🔄 Rellenando ceros para periodos faltantes...\")\n",
    "periodos       = pd.period_range('2017-01', '2019-12', freq='M').strftime('%Y%m').astype(int)\n",
    "productos_list = sell_in_agg['product_id'].unique()\n",
    "df_univ        = pd.MultiIndex.from_product(\n",
    "                         [periodos, productos_list],\n",
    "                         names=['periodo','product_id']\n",
    "                     ).to_frame(index=False)\n",
    "\n",
    "sell_in_agg = (\n",
    "    df_univ\n",
    "    .merge(sell_in_agg, on=['periodo','product_id'], how='left')\n",
    "    .fillna({\n",
    "        'tn':                    0,\n",
    "        'cust_request_qty':      0,\n",
    "        'cust_request_tn':       0,\n",
    "        'plan_precios_cuidados': False,\n",
    "        'n_customers':           0\n",
    "    })\n",
    ")"
   ]
  },
  {
   "cell_type": "code",
   "execution_count": 32,
   "id": "c773bbbd",
   "metadata": {},
   "outputs": [
    {
     "name": "stdout",
     "output_type": "stream",
     "text": [
      "🔄 Limpiando y verificando catálogo de productos...\n"
     ]
    }
   ],
   "source": [
    "# 6) Limpieza de catálogo y verificación\n",
    "print(\"🔄 Limpiando y verificando catálogo de productos...\")\n",
    "productos_clean = (\n",
    "    productos\n",
    "    .drop_duplicates()\n",
    "    .groupby('product_id', as_index=False)\n",
    "    .agg({\n",
    "        'cat1':    'first',\n",
    "        'cat2':    'first',\n",
    "        'cat3':    lambda x: ','.join(sorted(set(x))),\n",
    "        'brand':   'first',\n",
    "        'sku_size':'first'\n",
    "    })\n",
    ")\n",
    "assert productos_clean['product_id'].is_unique, \\\n",
    "    \"❌ Duplicados en productos_clean\"\n",
    "assert stock[['periodo','product_id']].drop_duplicates().shape[0] \\\n",
    "        == stock.shape[0], \"❌ Duplicados en stock\""
   ]
  },
  {
   "cell_type": "code",
   "execution_count": 33,
   "id": "ed37ff96",
   "metadata": {},
   "outputs": [
    {
     "name": "stdout",
     "output_type": "stream",
     "text": [
      "🔄 Haciendo merge final...\n"
     ]
    }
   ],
   "source": [
    "# 7) Merge final de tablas\n",
    "print(\"🔄 Haciendo merge final...\")\n",
    "df_prod = sell_in_agg[sell_in_agg['product_id'].isin(productos_pred['product_id'])]\n",
    "df_prod = df_prod.merge(productos_clean, on='product_id', how='left')\n",
    "df_prod = df_prod.merge(stock,           on=['periodo','product_id'], how='left')\n",
    "\n",
    "for col in ['cat1','cat2','cat3','brand']:\n",
    "    df_prod[col] = df_prod[col].astype('category')"
   ]
  },
  {
   "cell_type": "code",
   "execution_count": 34,
   "id": "4f4e4521",
   "metadata": {},
   "outputs": [
    {
     "name": "stdout",
     "output_type": "stream",
     "text": [
      "🔄 Creando columna 'target' (tn a dos meses vista)...\n"
     ]
    }
   ],
   "source": [
    "# 8) Creación del target\n",
    "print(\"🔄 Creando columna 'target' (tn a dos meses vista)...\")\n",
    "df_prod = df_prod.sort_values(['product_id','periodo'])\n",
    "df_prod['target'] = df_prod.groupby('product_id')['tn'].shift(-2)"
   ]
  },
  {
   "cell_type": "code",
   "execution_count": null,
   "id": "7cf65f7a",
   "metadata": {},
   "outputs": [
    {
     "name": "stdout",
     "output_type": "stream",
     "text": [
      "🔄 Guardando resultados en Drive como CSV...\n",
      "✅ Procesamiento completado.\n",
      "ℹ️ Archivo CSV guardado en: C:\\Users\\Elisabeth\\Desktop\\MAESTRIA_AUSTRAL\\Labo_III\\labo3-2025v\\entrega_final\\intermedios\\df_limpio_product_id.csv\n"
     ]
    }
   ],
   "source": [
    "#10) Guardado de resultados en Drive (CSV sin compresión)\n",
    "print(\"🔄 Guardando resultados en Drive como CSV...\")\n",
    "df_prod.to_csv(\n",
    "    os.path.join(INTERMEDIOS, \"df_limpio_product_id.csv\"),\n",
    "    index=False\n",
    ")\n",
    "\n",
    "print(\"✅ Procesamiento completado.\")\n",
    "print(\"ℹ️ Archivo CSV guardado en:\", os.path.join(INTERMEDIOS, \"df_limpio_product_id.csv\"))"
   ]
  }
 ],
 "metadata": {
  "kernelspec": {
   "display_name": "base",
   "language": "python",
   "name": "python3"
  },
  "language_info": {
   "codemirror_mode": {
    "name": "ipython",
    "version": 3
   },
   "file_extension": ".py",
   "mimetype": "text/x-python",
   "name": "python",
   "nbconvert_exporter": "python",
   "pygments_lexer": "ipython3",
   "version": "3.11.7"
  }
 },
 "nbformat": 4,
 "nbformat_minor": 5
}
